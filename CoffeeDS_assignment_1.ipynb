{
  "nbformat": 4,
  "nbformat_minor": 0,
  "metadata": {
    "colab": {
      "name": "CoffeeDS assignment 1.ipynb",
      "provenance": []
    },
    "kernelspec": {
      "name": "python3",
      "display_name": "Python 3"
    },
    "language_info": {
      "name": "python"
    }
  },
  "cells": [
    {
      "cell_type": "markdown",
      "source": [
        "COFFEE DS ASSIGNMENT 1"
      ],
      "metadata": {
        "id": "nS-g7gWCZpKB"
      }
    },
    {
      "cell_type": "code",
      "source": [
        "#1\n",
        "a = input(\"First Name : \")\n",
        "b = input(\"Last Name : \")\n",
        "print (b + \" \" + a)"
      ],
      "metadata": {
        "id": "1joCfQDgZ1Qp"
      },
      "execution_count": null,
      "outputs": []
    },
    {
      "cell_type": "code",
      "source": [
        "#2\n",
        "numbers = [int(x) for x in input().split(',')]\n",
        "print(\"List: \"+str(numbers))\n",
        "print(\"Tuple: \"+str(tuple(numbers)))"
      ],
      "metadata": {
        "id": "HPMGAeDTficO"
      },
      "execution_count": null,
      "outputs": []
    },
    {
      "cell_type": "code",
      "source": [
        "#3\n",
        "color_list = [\"Red\",\"Green\",\"White\" ,\"Black\"]\n",
        "print(color_list[0] + \" \" + color_list[-1])"
      ],
      "metadata": {
        "id": "qBgv07blfmB2"
      },
      "execution_count": null,
      "outputs": []
    },
    {
      "cell_type": "code",
      "source": [
        "#4\n",
        "print(abs.__doc__)"
      ],
      "metadata": {
        "colab": {
          "base_uri": "https://localhost:8080/"
        },
        "id": "qdU0GtNkf7__",
        "outputId": "50e8248e-bceb-47cc-95cb-a3f356772430"
      },
      "execution_count": null,
      "outputs": [
        {
          "output_type": "stream",
          "name": "stdout",
          "text": [
            "Return the absolute value of the argument.\n"
          ]
        }
      ]
    },
    {
      "cell_type": "code",
      "source": [
        "#5\n",
        "import calendar as c\n",
        "y = int(input(\"Year: \"))\n",
        "m = int(input(\"Month: \"))\n",
        "print(c.month(y, m))"
      ],
      "metadata": {
        "id": "awpEQ0i9gMLe"
      },
      "execution_count": null,
      "outputs": []
    },
    {
      "cell_type": "code",
      "source": [
        "#6\n",
        "from datetime import date as d\n",
        "x = d(2014, 7, 2)\n",
        "y = d(2014, 7, 11)\n",
        "z = y - x\n",
        "print(z.days)"
      ],
      "metadata": {
        "id": "ODQPYMKRgowE"
      },
      "execution_count": null,
      "outputs": []
    },
    {
      "cell_type": "code",
      "source": [
        "#7\n",
        "z = []\n",
        "l = input(\"enter values\")\n",
        "z.append(l)\n",
        "print(z)\n",
        "x = input(\"Value to find\")\n",
        "#for i in range(len(l)):\n",
        "if x in l:\n",
        "   print(\"Ture\")\n",
        "else:\n",
        "    print(\"False\")"
      ],
      "metadata": {
        "id": "7QMrnabBiGML"
      },
      "execution_count": null,
      "outputs": []
    },
    {
      "cell_type": "code",
      "source": [
        "#8\n",
        "def histogram( items ):\n",
        "    for n in items:\n",
        "        output = ''\n",
        "        times = n\n",
        "        while( times > 0 ):\n",
        "          output += '*'\n",
        "          times = times - 1\n",
        "        print(output)\n",
        "\n",
        "histogram([2, 3, 6, 5])"
      ],
      "metadata": {
        "id": "fFF_WBtgiLl7"
      },
      "execution_count": null,
      "outputs": []
    },
    {
      "cell_type": "code",
      "source": [
        "#9\n",
        "list = [2,4,8,11]\n",
        "x = ''\n",
        "for i in list:\n",
        "  x = x+str(i)\n",
        "print(x)"
      ],
      "metadata": {
        "colab": {
          "base_uri": "https://localhost:8080/"
        },
        "id": "DnONUMDiu5i3",
        "outputId": "18fecacd-4e1b-44f4-db6c-dae8a1c11bd3"
      },
      "execution_count": null,
      "outputs": [
        {
          "output_type": "stream",
          "name": "stdout",
          "text": [
            "24811\n"
          ]
        }
      ]
    },
    {
      "cell_type": "code",
      "source": [
        "#10\n",
        "x = set([\"White\", \"Black\", \"Red\"])\n",
        "y = set([\"Red\", \"Green\"])\n",
        "print(set(x-y))\n"
      ],
      "metadata": {
        "colab": {
          "base_uri": "https://localhost:8080/"
        },
        "id": "VPkWztPL2o0c",
        "outputId": "79f60f7e-7722-4a14-ff89-d187a959a175"
      },
      "execution_count": null,
      "outputs": [
        {
          "output_type": "stream",
          "name": "stdout",
          "text": [
            "{'White', 'Black'}\n"
          ]
        }
      ]
    },
    {
      "cell_type": "code",
      "source": [
        "#11\n",
        "import os.path\n",
        "print(os.path.isfile('sak.txt'))"
      ],
      "metadata": {
        "id": "N7BY8H5t3Oct"
      },
      "execution_count": null,
      "outputs": []
    },
    {
      "cell_type": "code",
      "source": [
        "#12\n",
        "from subprocess import call\n",
        "call([\"ls\", \"-l\"])"
      ],
      "metadata": {
        "id": "2HNmsGu53cQz"
      },
      "execution_count": null,
      "outputs": []
    },
    {
      "cell_type": "code",
      "source": [
        "#13\n",
        "import multiprocessing\n",
        "print(multiprocessing.cpu_count())"
      ],
      "metadata": {
        "id": "AyjBdjXt6OIX"
      },
      "execution_count": null,
      "outputs": []
    },
    {
      "cell_type": "code",
      "source": [
        "#dont know\n",
        "#14\n",
        "from os import listdir\n"
      ],
      "metadata": {
        "id": "sGeCVm-K6cqf"
      },
      "execution_count": null,
      "outputs": []
    },
    {
      "cell_type": "code",
      "source": [
        "#15\n",
        "import os\n",
        "print(os.environ)\n",
        "print(' ')\n",
        "# Access a particular environment variable \n",
        "print(os.environ['HOME'])\n",
        "print(' ')"
      ],
      "metadata": {
        "id": "g_2MMfKq66Qw"
      },
      "execution_count": null,
      "outputs": []
    },
    {
      "cell_type": "code",
      "source": [
        "#16\n",
        "import getpass\n",
        "print(getpass.getuser())"
      ],
      "metadata": {
        "id": "tn0dBvAR7RRG"
      },
      "execution_count": null,
      "outputs": []
    },
    {
      "cell_type": "code",
      "source": [
        "#17\n",
        "import time\n",
        "dont know"
      ],
      "metadata": {
        "id": "FVD0_O2N7Z8B"
      },
      "execution_count": null,
      "outputs": []
    },
    {
      "cell_type": "code",
      "source": [
        "#18\n",
        "import os\n",
        "print(os.path.abspath('path_fname'))        "
      ],
      "metadata": {
        "colab": {
          "base_uri": "https://localhost:8080/"
        },
        "id": "bFl0HMde7ure",
        "outputId": "65e6f282-78ed-4998-8039-42065343bcc8"
      },
      "execution_count": null,
      "outputs": [
        {
          "output_type": "stream",
          "name": "stdout",
          "text": [
            "/content/path_fname\n"
          ]
        }
      ]
    },
    {
      "cell_type": "code",
      "source": [
        "#19\n",
        "import os.path, time\n",
        "print(\"Last modified: %s\" % time.ctime(os.path.getmtime(\"test.txt\")))\n",
        "print(\"Created: %s\" % time.ctime(os.path.getctime(\"test.txt\")))"
      ],
      "metadata": {
        "id": "nXOTYxX78AEN"
      },
      "execution_count": null,
      "outputs": []
    },
    {
      "cell_type": "code",
      "source": [
        "#20\n",
        "x = int(input(\"Input first number: \"))\n",
        "y = int(input(\"Input second number: \"))\n",
        "z = int(input(\"Input third number: \"))\n",
        "\n",
        "a1 = min(x, y, z)\n",
        "a3 = max(x, y, z)\n",
        "a2 = (x + y + z) - a1 - a3\n",
        "print(\"Numbers in sorted order: \", a1, a2, a3)"
      ],
      "metadata": {
        "id": "DQeUqz3I8JWV"
      },
      "execution_count": null,
      "outputs": []
    },
    {
      "cell_type": "code",
      "source": [
        "#21\n"
      ],
      "metadata": {
        "id": "_CW4k1WL8mF5"
      },
      "execution_count": null,
      "outputs": []
    },
    {
      "cell_type": "markdown",
      "source": [
        "# **Python Data Structure**"
      ],
      "metadata": {
        "id": "OSRGoT9f83Wj"
      }
    },
    {
      "cell_type": "code",
      "source": [
        "#1\n",
        "a =[1,3,9]\n",
        "for i in a:\n",
        "    print(i)\n",
        "print(\"Access first three items individually\")\n",
        "print(a[0])\n",
        "print(a[1])\n",
        "print(a[2])"
      ],
      "metadata": {
        "id": "5of2FN0M8-xO"
      },
      "execution_count": null,
      "outputs": []
    },
    {
      "cell_type": "code",
      "source": [
        "a = [1,2,3,4]\n",
        "print(a[::-1])"
      ],
      "metadata": {
        "colab": {
          "base_uri": "https://localhost:8080/"
        },
        "id": "xCnbXF8A9oy8",
        "outputId": "c55c2a3a-cbbf-4f4d-b4f8-2af4caaf8801"
      },
      "execution_count": null,
      "outputs": [
        {
          "output_type": "stream",
          "name": "stdout",
          "text": [
            "[4, 3, 2, 1]\n"
          ]
        }
      ]
    },
    {
      "cell_type": "code",
      "source": [
        "a = [1, 3, 5, 5, 5, 9, 3]\n",
        "n = int(input())\n",
        "count = 0\n",
        "for i in a:\n",
        "  if n == i:\n",
        "    count = count+1\n",
        "print(count)"
      ],
      "metadata": {
        "id": "RFWVBLg2-Ve5"
      },
      "execution_count": null,
      "outputs": []
    },
    {
      "cell_type": "code",
      "source": [
        "#4\n",
        "a = [1, 3, 5, 5, 9, 5]\n",
        "n = int(input())\n",
        "count = 0\n",
        "for i in a:\n",
        "  if n == i:\n",
        "    a.remove(i)\n",
        "    break\n",
        "print(a)"
      ],
      "metadata": {
        "id": "KRfZJTh-BXY2"
      },
      "execution_count": null,
      "outputs": []
    },
    {
      "cell_type": "markdown",
      "source": [
        "# **Dictionary**"
      ],
      "metadata": {
        "id": "ECQ9jAomB5eW"
      }
    },
    {
      "cell_type": "code",
      "source": [
        "#1\n",
        "e = input()\n",
        "d = {}\n",
        "for i in e:\n",
        "   if i not in d:\n",
        "     d[i]=0\n",
        "   d[i]+=1\n",
        "print(sorted(d.items()))\n",
        "print(sorted(d.values()))\n",
        "a = sorted(d.values())\n",
        "print(a[::-1])"
      ],
      "metadata": {
        "colab": {
          "base_uri": "https://localhost:8080/"
        },
        "id": "DfPVN_bHCF6Z",
        "outputId": "b365cd94-7a6e-44d1-8e50-107c0caa9403"
      },
      "execution_count": null,
      "outputs": [
        {
          "output_type": "stream",
          "name": "stdout",
          "text": [
            "helloo\n",
            "[('e', 1), ('h', 1), ('l', 2), ('o', 2)]\n",
            "[1, 1, 2, 2]\n",
            "[2, 2, 1, 1]\n"
          ]
        }
      ]
    },
    {
      "cell_type": "code",
      "source": [
        "#2\n",
        "d = {0:10, 1:20}\n",
        "print(d)\n",
        "d.update({2:30})\n",
        "print(d)"
      ],
      "metadata": {
        "colab": {
          "base_uri": "https://localhost:8080/"
        },
        "id": "HVSwzuSCdj5o",
        "outputId": "00f4d945-1112-42c6-e5ae-f0ccad880bad"
      },
      "execution_count": null,
      "outputs": [
        {
          "output_type": "stream",
          "name": "stdout",
          "text": [
            "{0: 10, 1: 20}\n",
            "{0: 10, 1: 20, 2: 30}\n"
          ]
        }
      ]
    },
    {
      "cell_type": "code",
      "source": [
        "#3\n",
        "dic1={1:10, 2:20}\n",
        "dic2={3:30, 4:40}\n",
        "dic3={5:50,6:60}\n",
        "dic4 = {}\n",
        "for d in (dic1, dic2, dic3): dic4.update(d)\n",
        "print(dic4)\n"
      ],
      "metadata": {
        "colab": {
          "base_uri": "https://localhost:8080/"
        },
        "id": "zDNVPxE-dy55",
        "outputId": "95770bdc-95ac-4da8-d0b6-116baad0e23d"
      },
      "execution_count": null,
      "outputs": [
        {
          "output_type": "stream",
          "name": "stdout",
          "text": [
            "{1: 10, 2: 20, 3: 30, 4: 40, 5: 50, 6: 60}\n"
          ]
        }
      ]
    },
    {
      "cell_type": "code",
      "source": [
        "#4\n",
        "d1={1:10, 2:20}\n",
        "for d in d1.items():\n",
        "  print(d)"
      ],
      "metadata": {
        "colab": {
          "base_uri": "https://localhost:8080/"
        },
        "id": "jMJDZKAPegob",
        "outputId": "dd673598-b3ad-4018-9e97-49a95be07142"
      },
      "execution_count": null,
      "outputs": [
        {
          "output_type": "stream",
          "name": "stdout",
          "text": [
            "(1, 10)\n",
            "(2, 20)\n"
          ]
        }
      ]
    },
    {
      "cell_type": "code",
      "source": [
        "#5\n",
        "n = int(input())\n",
        "d = {}\n",
        "for i in range(1,n+1):\n",
        "    if i not in d:\n",
        "      d[i]=0\n",
        "    d[i]=i*i  \n",
        "print(d) "
      ],
      "metadata": {
        "colab": {
          "base_uri": "https://localhost:8080/"
        },
        "id": "UnjLPbAvfdJp",
        "outputId": "58173f00-b13b-42a5-b2fb-29e74e3140f1"
      },
      "execution_count": null,
      "outputs": [
        {
          "output_type": "stream",
          "name": "stdout",
          "text": [
            "4\n",
            "{1: 1, 2: 4, 3: 9, 4: 16}\n"
          ]
        }
      ]
    },
    {
      "cell_type": "code",
      "source": [
        "#6\n",
        "md = {'a':1,'b':2,'c':3,'d':4}\n",
        "print(md)\n",
        "if 'c' in md: \n",
        "    del md['c']\n",
        "print(md)"
      ],
      "metadata": {
        "colab": {
          "base_uri": "https://localhost:8080/"
        },
        "id": "vbCYGs-8hTti",
        "outputId": "bc74914a-70b1-4a44-8958-b9efd20c655f"
      },
      "execution_count": null,
      "outputs": [
        {
          "output_type": "stream",
          "name": "stdout",
          "text": [
            "{'a': 1, 'b': 2, 'c': 3, 'd': 4}\n",
            "{'a': 1, 'b': 2, 'd': 4}\n"
          ]
        }
      ]
    },
    {
      "cell_type": "code",
      "source": [
        "#7\n",
        "d =  [{\"V\":\"S001\"}, {\"V\": \"S002\"}, {\"VI\": \"S001\"}, {\"VI\": \"S005\"},{\"VII\":\"S005\"}, {\"V\":\"S009\"},{\"VIII\":\"S007\"}]\n",
        "s = set()\n",
        "for i in d:\n",
        "    s.add(*i.values())\n",
        "print(s)       "
      ],
      "metadata": {
        "colab": {
          "base_uri": "https://localhost:8080/"
        },
        "id": "GZDwdzmciISE",
        "outputId": "815bb374-5888-40da-fd6c-dc40b0b7feb7"
      },
      "execution_count": null,
      "outputs": [
        {
          "output_type": "stream",
          "name": "stdout",
          "text": [
            "{'S001', 'S009', 'S002', 'S005', 'S007'}\n"
          ]
        }
      ]
    },
    {
      "cell_type": "code",
      "source": [
        "#8\n",
        "s = 'w3resource'\n",
        "d = {}\n",
        "for i in s:\n",
        "  if i not in d:\n",
        "      d[i]=0\n",
        "  d[i]+=1\n",
        "print(d)"
      ],
      "metadata": {
        "colab": {
          "base_uri": "https://localhost:8080/"
        },
        "id": "d4zpJgOhkB_M",
        "outputId": "18a9d85b-bff6-4bd6-8de8-8c82ff80ca41"
      },
      "execution_count": null,
      "outputs": [
        {
          "output_type": "stream",
          "name": "stdout",
          "text": [
            "{'w': 1, '3': 1, 'r': 2, 'e': 2, 's': 1, 'o': 1, 'u': 1, 'c': 1}\n"
          ]
        }
      ]
    },
    {
      "cell_type": "code",
      "source": [
        "#9\n",
        "d = {'id': 1, 'success': True, 'name': 'Lary'}\n",
        "print(\"Keys \\t\\tValues\")\n",
        "for i in d:\n",
        "    print(i,\"\\t\\t\",d[i])"
      ],
      "metadata": {
        "colab": {
          "base_uri": "https://localhost:8080/"
        },
        "id": "dh5upM8nlA4i",
        "outputId": "68a42526-ad4d-4139-fefc-324bb22c0bff"
      },
      "execution_count": null,
      "outputs": [
        {
          "output_type": "stream",
          "name": "stdout",
          "text": [
            "Keys \t\tValues\n",
            "id \t\t 1\n",
            "success \t\t True\n",
            "name \t\t Lary\n"
          ]
        }
      ]
    },
    {
      "cell_type": "code",
      "source": [
        "#10\n",
        "d = [{'id': 1, 'success': True, 'name': 'Lary'}, {'id': 2, 'success':False, 'name': 'Rabi'}, {'id': 3, 'success': True, 'name': 'Alex'}]\n",
        "count = 0\n",
        "for i in d:\n",
        "  for j in i.items():\n",
        "      if j ==('success',True):\n",
        "         count+=1\n",
        "print(count)"
      ],
      "metadata": {
        "colab": {
          "base_uri": "https://localhost:8080/"
        },
        "id": "rRDTvqGzlwxy",
        "outputId": "dbd135af-a9fc-4e26-9653-add6ccf2fdd7"
      },
      "execution_count": null,
      "outputs": [
        {
          "output_type": "stream",
          "name": "stdout",
          "text": [
            "2\n"
          ]
        }
      ]
    },
    {
      "cell_type": "code",
      "source": [
        "#11\n",
        "a = [1,2,3,4]\n",
        "d = c = {}\n",
        "for i in a:\n",
        "  c[i] = {}\n",
        "  c = c[i]\n",
        "print(d)"
      ],
      "metadata": {
        "colab": {
          "base_uri": "https://localhost:8080/"
        },
        "id": "Tp26FftGnF-I",
        "outputId": "e70d0b41-e53d-4744-e2e2-885d87100d87"
      },
      "execution_count": null,
      "outputs": [
        {
          "output_type": "stream",
          "name": "stdout",
          "text": [
            "{1: {2: {3: {4: {}}}}}\n"
          ]
        }
      ]
    },
    {
      "cell_type": "code",
      "source": [
        "#12\n",
        "d = {1:1, 1:3, 1:4, 2:3}\n",
        "a = int(input())\n",
        "if a not in d.keys():\n",
        "  print('not exist')\n",
        "else:\n",
        "  print('exist')"
      ],
      "metadata": {
        "colab": {
          "base_uri": "https://localhost:8080/"
        },
        "id": "ahVlaO5Snwsp",
        "outputId": "0d5ff553-10b0-4e8c-f6e7-7bd3a2aa1c54"
      },
      "execution_count": null,
      "outputs": [
        {
          "output_type": "stream",
          "name": "stdout",
          "text": [
            "3\n",
            "not exist\n"
          ]
        }
      ]
    },
    {
      "cell_type": "code",
      "source": [
        "#14\n",
        "d = {'X' : [1,2,3,4,5,6,7,8,9],\n",
        "     'Y' : 12,\n",
        "     'Z' :[7,8,9,6,4]}\n",
        "a = 0\n",
        "for i in d:\n",
        "  if isinstance(d[i],list)==True:\n",
        "    a+=sum([len(d[i])])\n",
        "print(a)"
      ],
      "metadata": {
        "id": "JciLQgf-oO9L"
      },
      "execution_count": null,
      "outputs": []
    },
    {
      "cell_type": "markdown",
      "source": [
        "## **Set**"
      ],
      "metadata": {
        "id": "f5CN7fxcB8WR"
      }
    },
    {
      "cell_type": "code",
      "source": [
        "#1\n",
        "x = set([0, 1, 2, 3, 4])\n",
        "print(x)"
      ],
      "metadata": {
        "colab": {
          "base_uri": "https://localhost:8080/"
        },
        "id": "lfWwS1aWCE4M",
        "outputId": "2d580c42-2369-4372-9c97-906cce361b34"
      },
      "execution_count": null,
      "outputs": [
        {
          "output_type": "stream",
          "name": "stdout",
          "text": [
            "{0, 1, 2, 3, 4}\n"
          ]
        }
      ]
    },
    {
      "cell_type": "code",
      "source": [
        "#2\n",
        "x = set([0, 1, 2, 3, 4, 5])\n",
        "for n in x:\n",
        "  print(n, end=' ')"
      ],
      "metadata": {
        "colab": {
          "base_uri": "https://localhost:8080/"
        },
        "id": "h6GK7E-4CYq5",
        "outputId": "20cab94a-b13c-48cb-c835-19215ade8edd"
      },
      "execution_count": null,
      "outputs": [
        {
          "output_type": "stream",
          "name": "stdout",
          "text": [
            "0 1 2 3 4 5 "
          ]
        }
      ]
    },
    {
      "cell_type": "code",
      "source": [
        "#3\n",
        "c = set()\n",
        "print(c)\n",
        "print(\"\\nAdd:\")\n",
        "c.add(\"R\")\n",
        "print(c)\n",
        "print(\"\\nAdd more:\")\n",
        "c.update([\"S\", \"T\"])\n",
        "print(c)"
      ],
      "metadata": {
        "id": "Cs7U-lV_C5cH"
      },
      "execution_count": null,
      "outputs": []
    },
    {
      "cell_type": "code",
      "source": [
        "#4\n",
        "x = set([0, 1, 2, 3, 4, 5])\n",
        "x.remove(1)\n",
        "print(x)"
      ],
      "metadata": {
        "colab": {
          "base_uri": "https://localhost:8080/"
        },
        "id": "Yo9Wky4aDTXz",
        "outputId": "85cd13e8-e46b-497b-cfd2-a43a262971ed"
      },
      "execution_count": null,
      "outputs": [
        {
          "output_type": "stream",
          "name": "stdout",
          "text": [
            "{0, 2, 3, 4, 5}\n"
          ]
        }
      ]
    },
    {
      "cell_type": "code",
      "source": [
        "#5\n",
        "num_set = set([0, 1, 2, 3, 4, 5])\n",
        "print(\"Original set elements:\")\n",
        "print(num_set)\n",
        "print(\"\\nRemove 5 from the said set:\")\n",
        "num_set.discard(3)\n",
        "print(num_set)\n",
        "print(\"\\nRemove 2 from the said set:\")\n",
        "num_set.discard(3)\n",
        "print(num_set)"
      ],
      "metadata": {
        "id": "0-Kv__wNDcxH"
      },
      "execution_count": null,
      "outputs": []
    },
    {
      "cell_type": "code",
      "source": [
        "#6\n",
        "x = set([\"green\", \"blue\"])\n",
        "y = set([\"blue\", \"yellow\"])\n",
        "print(\"\\nIntersection: \")\n",
        "z = x & y\n",
        "print(z)\n"
      ],
      "metadata": {
        "colab": {
          "base_uri": "https://localhost:8080/"
        },
        "id": "u5D6WnaRD6pf",
        "outputId": "b487cbae-3d45-4dd1-e354-30fca67d032a"
      },
      "execution_count": null,
      "outputs": [
        {
          "output_type": "stream",
          "name": "stdout",
          "text": [
            "\n",
            "Intersection: \n",
            "{'blue', 'yellow', 'green'}\n"
          ]
        }
      ]
    },
    {
      "cell_type": "code",
      "source": [
        "#7\n",
        "x = set([\"green\", \"blue\"])\n",
        "y = set([\"blue\", \"yellow\"])\n",
        "print(\"\\nUnion: \")\n",
        "z = x | y\n",
        "print(z)"
      ],
      "metadata": {
        "colab": {
          "base_uri": "https://localhost:8080/"
        },
        "id": "qlIloforEToj",
        "outputId": "fac0025f-f30c-43a8-b4f0-1963e3f0dca6"
      },
      "execution_count": null,
      "outputs": [
        {
          "output_type": "stream",
          "name": "stdout",
          "text": [
            "\n",
            "Intersection: \n",
            "{'blue', 'yellow', 'green'}\n"
          ]
        }
      ]
    },
    {
      "cell_type": "code",
      "source": [
        "#8\n",
        "x = set([\"green\", \"blue\"])\n",
        "y = set([\"blue\", \"yellow\"])\n",
        "print(\"\\nDifference: \")\n",
        "z = x - y\n",
        "print(z)"
      ],
      "metadata": {
        "colab": {
          "base_uri": "https://localhost:8080/"
        },
        "id": "4O4ev06VE4M4",
        "outputId": "9686731a-8152-4846-9e10-6c50b060a07c"
      },
      "execution_count": null,
      "outputs": [
        {
          "output_type": "stream",
          "name": "stdout",
          "text": [
            "\n",
            "Difference: \n",
            "{'green'}\n"
          ]
        }
      ]
    },
    {
      "cell_type": "code",
      "source": [
        "x = set([\"green\", \"blue\"])\n",
        "y = set([\"blue\", \"yellow\"])\n",
        "print(\"\\n Sym Difference: \")\n",
        "z = x.symmetric_difference(y)\n",
        "print(z)"
      ],
      "metadata": {
        "colab": {
          "base_uri": "https://localhost:8080/"
        },
        "id": "OUsXsK_RFaIZ",
        "outputId": "d0b354c5-ccf2-4f56-dcd0-22332f21e875"
      },
      "execution_count": null,
      "outputs": [
        {
          "output_type": "stream",
          "name": "stdout",
          "text": [
            "\n",
            " Sym Difference: \n",
            "{'yellow', 'green'}\n"
          ]
        }
      ]
    },
    {
      "cell_type": "code",
      "source": [
        "#10\n",
        "y = set([\"blue\", \"yellow\"])\n",
        "y.clear()\n",
        "print(y)"
      ],
      "metadata": {
        "colab": {
          "base_uri": "https://localhost:8080/"
        },
        "id": "4VAwDoSdFzI1",
        "outputId": "6106c6ca-5417-4d6f-ce3e-093c727ffc2b"
      },
      "execution_count": null,
      "outputs": [
        {
          "output_type": "stream",
          "name": "stdout",
          "text": [
            "set()\n"
          ]
        }
      ]
    },
    {
      "cell_type": "code",
      "source": [
        "#11\n",
        "x = frozenset([1, 2, 3, 4, 5])\n",
        "print(x)\n",
        "x.add(8)\n",
        "print(x)"
      ],
      "metadata": {
        "id": "8zSAgt6UGGWl"
      },
      "execution_count": null,
      "outputs": []
    },
    {
      "cell_type": "code",
      "source": [
        "#12\n",
        "x = {1, 2, 3, 4, 5}\n",
        "y = max(x)\n",
        "z = min(x)\n",
        "print(y)\n",
        "print(z)"
      ],
      "metadata": {
        "id": "ZYTmQVmlGeht"
      },
      "execution_count": null,
      "outputs": []
    },
    {
      "cell_type": "markdown",
      "source": [
        "# **String**"
      ],
      "metadata": {
        "id": "P2p3dBMBH4rS"
      }
    },
    {
      "cell_type": "code",
      "source": [
        "#1\n",
        "def s(x):\n",
        "    count = 0\n",
        "    for char in x:\n",
        "        count += 1\n",
        "    return count\n",
        "print(s(\"Sakshi Rohida\"))\n"
      ],
      "metadata": {
        "colab": {
          "base_uri": "https://localhost:8080/"
        },
        "id": "QLgQR4adH7UQ",
        "outputId": "45273bb8-a437-409d-eb91-c45c34fa6e56"
      },
      "execution_count": null,
      "outputs": [
        {
          "output_type": "stream",
          "name": "stdout",
          "text": [
            "13\n"
          ]
        }
      ]
    },
    {
      "cell_type": "code",
      "source": [
        "#2\n",
        "s = \"sakshi\"\n",
        "d = {}\n",
        "for n in s:\n",
        "   if n not in d:\n",
        "     d[n]=0\n",
        "   d[n]+=1  \n",
        "print(d)\n"
      ],
      "metadata": {
        "colab": {
          "base_uri": "https://localhost:8080/"
        },
        "id": "2FZiiKqVIiF2",
        "outputId": "a0332b2e-575c-4646-caf0-504376d80734"
      },
      "execution_count": null,
      "outputs": [
        {
          "output_type": "stream",
          "name": "stdout",
          "text": [
            "{'s': 2, 'a': 1, 'k': 1, 'h': 1, 'i': 1}\n"
          ]
        }
      ]
    },
    {
      "cell_type": "code",
      "source": [
        "#3\n",
        "s = \"sakshi\"\n",
        "x = s[0]\n",
        "s = s.replace(x,\"$\")\n",
        "print(x+s[1:])"
      ],
      "metadata": {
        "colab": {
          "base_uri": "https://localhost:8080/"
        },
        "id": "0BG_AjAfKs3M",
        "outputId": "dab4968d-465a-4790-d895-3407d728ea2d"
      },
      "execution_count": null,
      "outputs": [
        {
          "output_type": "stream",
          "name": "stdout",
          "text": [
            "sak$hi\n"
          ]
        }
      ]
    },
    {
      "cell_type": "code",
      "source": [
        "#4\n",
        "def x(str1):\n",
        "  length = len(str1)\n",
        "\n",
        "  if length > 2:\n",
        "    if str1[-3:] == 'ing':\n",
        "      str1 += 'ly'\n",
        "    else:\n",
        "      str1 += 'ing'\n",
        "  return str1\n",
        "\n",
        "print(x('ab'))\n",
        "print(x('abc'))\n",
        "print(x('string'))"
      ],
      "metadata": {
        "colab": {
          "base_uri": "https://localhost:8080/"
        },
        "id": "pLm6SEy8MIbE",
        "outputId": "c5978c6d-853a-43f5-ef4f-abc2b18580b7"
      },
      "execution_count": null,
      "outputs": [
        {
          "output_type": "stream",
          "name": "stdout",
          "text": [
            "ab\n",
            "abcing\n",
            "stringly\n"
          ]
        }
      ]
    },
    {
      "cell_type": "code",
      "source": [
        "#5\n",
        "l = [\"Sakshi\",\"Yaju\",\"Ram\"]\n",
        "# x = []\n",
        "# for i in l:\n",
        "#   x.append(len(i))\n",
        "# print(max(x))\n",
        "print(max(l,key=len))\n",
        "print(len(max(l,key=len)))\n"
      ],
      "metadata": {
        "colab": {
          "base_uri": "https://localhost:8080/"
        },
        "id": "UhZbZgR4NJxx",
        "outputId": "4d876551-fd1d-4b92-e2a8-b7d54a62ed74"
      },
      "execution_count": null,
      "outputs": [
        {
          "output_type": "stream",
          "name": "stdout",
          "text": [
            "Sakshi\n",
            "6\n"
          ]
        }
      ]
    },
    {
      "cell_type": "code",
      "source": [
        "#6\n",
        "x = input(\"String: \")\n",
        "print(x.upper())\n",
        "print(x.lower())"
      ],
      "metadata": {
        "id": "u1zPWvYfOu77"
      },
      "execution_count": null,
      "outputs": []
    },
    {
      "cell_type": "code",
      "source": [
        "#7\n",
        "x = input().split(',')\n",
        "c = list(set(x))\n",
        "c.sort()\n",
        "print(str(c))"
      ],
      "metadata": {
        "id": "K9yvAKlQU5ai"
      },
      "execution_count": null,
      "outputs": []
    },
    {
      "cell_type": "code",
      "source": [
        "#8\n",
        "z = \"https://www.w3resource.com/python-exercises\"\n",
        "print(z.rsplit('/',1)[0])"
      ],
      "metadata": {
        "colab": {
          "base_uri": "https://localhost:8080/"
        },
        "id": "DLlF3DZcXmke",
        "outputId": "c1e558b5-cfa0-4bc3-9aa2-3ecee7016aea"
      },
      "execution_count": null,
      "outputs": [
        {
          "output_type": "stream",
          "name": "stdout",
          "text": [
            "https://www.w3resource.com\n"
          ]
        }
      ]
    },
    {
      "cell_type": "code",
      "source": [
        "#9 dont know\n",
        "#10\n",
        "s = 'My name is sakshi.'\n",
        "print()\n",
        "print(s.count(\"is\"))\n",
        "print()"
      ],
      "metadata": {
        "colab": {
          "base_uri": "https://localhost:8080/"
        },
        "id": "qzqemtjYY06s",
        "outputId": "ba8d551b-5aaa-4bc9-9f8f-3d4b044fc7a9"
      },
      "execution_count": null,
      "outputs": [
        {
          "output_type": "stream",
          "name": "stdout",
          "text": [
            "\n",
            "1\n",
            "\n"
          ]
        }
      ]
    },
    {
      "cell_type": "code",
      "source": [
        "#11\n",
        "s = \"sakshi\"\n",
        "print(s[::-1])"
      ],
      "metadata": {
        "colab": {
          "base_uri": "https://localhost:8080/"
        },
        "id": "6yJKVRnvZPWR",
        "outputId": "7d60deba-0acf-465f-eba6-f03f50a26580"
      },
      "execution_count": null,
      "outputs": [
        {
          "output_type": "stream",
          "name": "stdout",
          "text": [
            "ihskas\n"
          ]
        }
      ]
    },
    {
      "cell_type": "code",
      "source": [
        "#12\n",
        "n = 5\n",
        "s = \"aBcdeFGgh\"\n",
        "print(s[:n].lower() + s[n:])"
      ],
      "metadata": {
        "colab": {
          "base_uri": "https://localhost:8080/"
        },
        "id": "z6d0-K6EZiEH",
        "outputId": "de4261de-0c23-4770-eccb-f0659f8118a4"
      },
      "execution_count": null,
      "outputs": [
        {
          "output_type": "stream",
          "name": "stdout",
          "text": [
            "abcdeFGgh\n"
          ]
        }
      ]
    },
    {
      "cell_type": "markdown",
      "source": [
        "## **List**"
      ],
      "metadata": {
        "id": "9W8pCUczu9u3"
      }
    },
    {
      "cell_type": "code",
      "source": [
        "#1\n",
        "def sum_list(items):\n",
        "    sum = 0\n",
        "    for x in items:\n",
        "        sum += x\n",
        "    return sum\n",
        "print(sum_list([1,2,-4]))\n"
      ],
      "metadata": {
        "colab": {
          "base_uri": "https://localhost:8080/"
        },
        "id": "JlOHK_x9wWNQ",
        "outputId": "470e9015-41c1-4a53-ac2d-d719fa813e60"
      },
      "execution_count": null,
      "outputs": [
        {
          "output_type": "stream",
          "name": "stdout",
          "text": [
            "-5\n"
          ]
        }
      ]
    },
    {
      "cell_type": "code",
      "source": [
        "#2\n",
        "def sum_list(items):\n",
        "    sum = 1\n",
        "    for x in items:\n",
        "        sum *= x\n",
        "    return sum\n",
        "print(sum_list([1,2,-4]))\n"
      ],
      "metadata": {
        "colab": {
          "base_uri": "https://localhost:8080/"
        },
        "id": "_4UcaBd0w8v9",
        "outputId": "dab27285-3193-4304-9a94-f6c1a08ba7f5"
      },
      "execution_count": null,
      "outputs": [
        {
          "output_type": "stream",
          "name": "stdout",
          "text": [
            "-8\n"
          ]
        }
      ]
    },
    {
      "cell_type": "code",
      "source": [
        "#3\n",
        "d = [1,4,5,2,0]\n",
        "print(min(d))"
      ],
      "metadata": {
        "colab": {
          "base_uri": "https://localhost:8080/"
        },
        "id": "Nj8heE1kxGfo",
        "outputId": "56d43fd8-93e9-4d6a-9279-a6074ab48b00"
      },
      "execution_count": null,
      "outputs": [
        {
          "output_type": "stream",
          "name": "stdout",
          "text": [
            "0\n"
          ]
        }
      ]
    },
    {
      "cell_type": "code",
      "source": [
        "d = ['abc', 'xyz', 'aba', '1221']\n",
        "c = 0\n",
        "for i in d:\n",
        "    if len(i) > 1 and i[0] == i[-1]:\n",
        "      c += 1\n",
        "print(c)\n"
      ],
      "metadata": {
        "colab": {
          "base_uri": "https://localhost:8080/"
        },
        "id": "_RDWYRRrxRNo",
        "outputId": "d88ba881-643f-4570-9620-5448af423120"
      },
      "execution_count": null,
      "outputs": [
        {
          "output_type": "stream",
          "name": "stdout",
          "text": [
            "2\n"
          ]
        }
      ]
    },
    {
      "cell_type": "code",
      "source": [
        "#5\n",
        "a = [(2, 5), (1, 2), (4, 4), (2, 3), (2, 1)]\n",
        "def last(a): \n",
        "   print(a[-1])\n",
        "def sort_last(tuples):  \n",
        "   print(sorted(tuples, key=last))"
      ],
      "metadata": {
        "id": "GQjPcO8cx2BX"
      },
      "execution_count": null,
      "outputs": []
    },
    {
      "cell_type": "code",
      "source": [
        "#6\n",
        "a = [10,20,30,20,10,50,60]\n",
        "print(set(a))"
      ],
      "metadata": {
        "id": "edjiRrQyzBRw"
      },
      "execution_count": null,
      "outputs": []
    },
    {
      "cell_type": "code",
      "source": [
        "#7\n",
        "a = [10,20,30,20]\n",
        "b = a\n",
        "print(a)\n",
        "print(b)"
      ],
      "metadata": {
        "colab": {
          "base_uri": "https://localhost:8080/"
        },
        "id": "Jgemh-1kzNAf",
        "outputId": "65bd4c86-ac07-4d15-c0a8-cc236d447a28"
      },
      "execution_count": null,
      "outputs": [
        {
          "output_type": "stream",
          "name": "stdout",
          "text": [
            "[10, 20, 30, 20]\n",
            "[10, 20, 30, 20]\n"
          ]
        }
      ]
    },
    {
      "cell_type": "code",
      "source": [
        "#8\n",
        "n = 3\n",
        "x = []\n",
        "d = [\"abcd\",\"xyz\", \"ababab\", \"bcbc\", \"ba\"]\n",
        "for i in d:\n",
        "  if len(i)>n:\n",
        "    x.append(i)\n",
        "print(x)\n"
      ],
      "metadata": {
        "colab": {
          "base_uri": "https://localhost:8080/"
        },
        "id": "Q0ZmyCcHzjj8",
        "outputId": "0baca1f7-5306-402f-8785-bd1f1310b590"
      },
      "execution_count": null,
      "outputs": [
        {
          "output_type": "stream",
          "name": "stdout",
          "text": [
            "['abcd', 'ababab', 'bcbc']\n"
          ]
        }
      ]
    },
    {
      "cell_type": "code",
      "source": [
        "a = [1, 2, 3, 4]\n",
        "b = [5, 2, 8, 9]\n",
        "for i in a:\n",
        "  for j in b:\n",
        "    if i == j:\n",
        "      print(\"True\")\n",
        "    else:\n",
        "      print(\"false\")"
      ],
      "metadata": {
        "id": "bGMLZ2Xs0HOn"
      },
      "execution_count": null,
      "outputs": []
    },
    {
      "cell_type": "code",
      "source": [
        "#10\n",
        "a = ['Red', 'Green', 'White', 'Black', 'Pink', 'Yellow']\n",
        "d = []\n",
        "d.append(a[1]+a[2]+a[3])\n",
        "print(d,)"
      ],
      "metadata": {
        "colab": {
          "base_uri": "https://localhost:8080/"
        },
        "id": "qe3cnynH1iTg",
        "outputId": "1b3ee469-a38d-4af9-f555-f2b6ff1a5f6f"
      },
      "execution_count": null,
      "outputs": [
        {
          "output_type": "stream",
          "name": "stdout",
          "text": [
            "['GreenWhiteBlack']\n"
          ]
        }
      ]
    },
    {
      "cell_type": "code",
      "source": [
        "#14\n",
        "list1 = [10, 10, 0, 0, 10]\n",
        "list2 = [10, 10, 10, 0, 0]\n",
        "list3 = [1, 10, 10, 0, 0]\n",
        "\n",
        "print('Compare list1 and list2')\n",
        "print(' '.join(map(str, list2)) in ' '.join(map(str, list1 * 2)))\n",
        "print('Compare list1 and list3')\n",
        "print(' '.join(map(str, list3)) in ' '.join(map(str, list1 * 2)))\n"
      ],
      "metadata": {
        "id": "UZwO35FI167k"
      },
      "execution_count": null,
      "outputs": []
    },
    {
      "cell_type": "markdown",
      "source": [
        "## **Tuple**"
      ],
      "metadata": {
        "id": "xTAY8nO42-VA"
      }
    },
    {
      "cell_type": "code",
      "source": [
        "t = (1,2,'xyz')\n",
        "print(t)"
      ],
      "metadata": {
        "colab": {
          "base_uri": "https://localhost:8080/"
        },
        "id": "lVwVtkzs2bV5",
        "outputId": "ed1762c7-c646-4310-feb9-c93401d1a25c"
      },
      "execution_count": null,
      "outputs": [
        {
          "output_type": "stream",
          "name": "stdout",
          "text": [
            "(1, 2, 'xyz')\n"
          ]
        }
      ]
    },
    {
      "cell_type": "code",
      "source": [
        "#3\n",
        "tuplex = 2, 8, 3 \n",
        "print(tuplex)\n",
        "n1, n2, n3 = tuplex\n",
        "print(n1 + n2 + n3) "
      ],
      "metadata": {
        "id": "uX8D6HkK3Zp7"
      },
      "execution_count": null,
      "outputs": []
    },
    {
      "cell_type": "code",
      "source": [
        "#6\n",
        "tuplex = (\"w\", 3, \"r\", \"e\", \"s\", \"o\", \"u\", \"r\", \"c\", \"e\")\n",
        "print(\"r\" in tuplex)\n",
        "print(5 in tuplex)\n"
      ],
      "metadata": {
        "id": "xJ11pdJG3n4y"
      },
      "execution_count": null,
      "outputs": []
    },
    {
      "cell_type": "code",
      "source": [
        "#7\n",
        "a = [5, 10, 7, 4, 15, 3]\n",
        "z = tuple(a)\n",
        "print(z)"
      ],
      "metadata": {
        "colab": {
          "base_uri": "https://localhost:8080/"
        },
        "id": "AkYToPTW4DO2",
        "outputId": "7c778161-85ba-43a3-88d9-8b0599ea596b"
      },
      "execution_count": null,
      "outputs": [
        {
          "output_type": "stream",
          "name": "stdout",
          "text": [
            "(5, 10, 7, 4, 15, 3)\n"
          ]
        }
      ]
    },
    {
      "cell_type": "code",
      "source": [
        ""
      ],
      "metadata": {
        "id": "Z3dUnRDR4KVZ"
      },
      "execution_count": null,
      "outputs": []
    }
  ]
}